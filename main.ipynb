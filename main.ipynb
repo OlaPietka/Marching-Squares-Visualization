{
 "cells": [
  {
   "cell_type": "markdown",
   "id": "military-spyware",
   "metadata": {},
   "source": [
    "# Description"
   ]
  },
  {
   "cell_type": "markdown",
   "id": "radical-thermal",
   "metadata": {},
   "source": [
    "Implementation of [marching squares](http://en.wikipedia.org/wiki/Marching_squares) to draw 2D contour lines, and apply a colormap and interpolation function. \n",
    "\n",
    "To visualize the data I will generate an interactive visualization that toggles between the presence of contour lines, the colormap, and the use of interpolation on contour lines."
   ]
  },
  {
   "cell_type": "markdown",
   "id": "referenced-touch",
   "metadata": {},
   "source": [
    "# Implementation"
   ]
  },
  {
   "cell_type": "markdown",
   "id": "pressed-pipeline",
   "metadata": {},
   "source": [
    "## Imports"
   ]
  },
  {
   "cell_type": "code",
   "execution_count": 1,
   "id": "daily-conservative",
   "metadata": {},
   "outputs": [
    {
     "name": "stderr",
     "output_type": "stream",
     "text": [
      "Matplotlib created a temporary config/cache directory at /tmp/matplotlib-_whrxyv8 because the default path (/tmp/cache/matplotlib) is not a writable directory; it is highly recommended to set the MPLCONFIGDIR environment variable to a writable directory, in particular to speed up the import of Matplotlib and to better support multiprocessing.\n"
     ]
    }
   ],
   "source": [
    "import random\n",
    "import pylab as plt\n",
    "import numpy as np\n",
    "\n",
    "from matplotlib.widgets import Button\n",
    "from matplotlib.colors import ListedColormap, LinearSegmentedColormap\n",
    "%matplotlib widget"
   ]
  },
  {
   "cell_type": "markdown",
   "id": "czech-lucas",
   "metadata": {},
   "source": [
    "## Objects setup"
   ]
  },
  {
   "cell_type": "markdown",
   "id": "floppy-dialogue",
   "metadata": {},
   "source": [
    "### Vertex\n",
    "Vertex has a value and a position in a grid (column index, row index)"
   ]
  },
  {
   "cell_type": "code",
   "execution_count": 2,
   "id": "blocked-pharmaceutical",
   "metadata": {},
   "outputs": [],
   "source": [
    "class Vertex:\n",
    "    def __init__(self, value, column, row):\n",
    "        self.value = value\n",
    "        self.column = column\n",
    "        self.row = row"
   ]
  },
  {
   "cell_type": "markdown",
   "id": "automotive-gibraltar",
   "metadata": {},
   "source": [
    "### Cell"
   ]
  },
  {
   "cell_type": "markdown",
   "id": "another-hebrew",
   "metadata": {},
   "source": [
    "Cell consists of exactly 4 vertices and has a reference to its top left vertex position in the grid"
   ]
  },
  {
   "cell_type": "code",
   "execution_count": 3,
   "id": "composite-effect",
   "metadata": {},
   "outputs": [],
   "source": [
    "class Cell:\n",
    "    def __init__(self, vertices):\n",
    "        self.vertices = vertices\n",
    "        self.top = vertices[0].row\n",
    "        self.left = vertices[0].column\n",
    "\n",
    "    def get_edge(self, index):\n",
    "        v1 = self.vertices[index]\n",
    "        v2 = self.vertices[index+1] if index < 3 else self.vertices[0]\n",
    "        return sorted([v1, v2], key=lambda v: v.value)"
   ]
  },
  {
   "cell_type": "markdown",
   "id": "amateur-silicon",
   "metadata": {},
   "source": [
    "### Grid"
   ]
  },
  {
   "cell_type": "markdown",
   "id": "excited-syndrome",
   "metadata": {},
   "source": [
    "Grid consists of 2D array of cells"
   ]
  },
  {
   "cell_type": "code",
   "execution_count": 4,
   "id": "balanced-ivory",
   "metadata": {},
   "outputs": [],
   "source": [
    "class Grid:\n",
    "    def __init__(self, grid_values):\n",
    "        self.height, self.width = grid_values.shape\n",
    "        self.cells = self.to_cells(grid_values)\n",
    "        \n",
    "    def to_cells(self, grid_values):\n",
    "        def form_cell(top, left):\n",
    "            vertices = [Vertex(grid_values[top][left], top, left), \n",
    "                        Vertex(grid_values[top][left+1], top, left+1),\n",
    "                        Vertex(grid_values[top+1][left+1], top+1, left+1), \n",
    "                        Vertex(grid_values[top+1][left], top+1, left)]\n",
    "            return Cell(vertices)\n",
    "        \n",
    "        return [[form_cell(row_num, col_num) \n",
    "                 for col_num in range(self.width - 1)]\n",
    "               for row_num in range(self.height - 1)]\n",
    "    \n",
    "    def get_cell(self, top, left):\n",
    "        # Handle out of bounds case\n",
    "        if (top > self.height - 2) | (left > self.width - 2):\n",
    "            return None\n",
    "        return self.cells[top][left]"
   ]
  },
  {
   "cell_type": "markdown",
   "id": "dutch-pierce",
   "metadata": {},
   "source": [
    "## Getting the contour case"
   ]
  },
  {
   "cell_type": "markdown",
   "id": "classical-treat",
   "metadata": {},
   "source": [
    "The basic idea behind marching squares algorithm is to \"march\" from one cell to another and classify each cell into a specific contour case, using the values at the corners of the cell. \n",
    "\n",
    "These contour cases will be located in a lookup table consisting of 16 entries. Each entry represents a different contour case (the edges that the contour line intersects) and maps to a unique index. "
   ]
  },
  {
   "attachments": {
    "efa7272b-5d69-4a74-9db9-11ea7f95fc9c.png": {
     "image/png": "[encoded data removed]"
    }
   },
   "cell_type": "markdown",
   "id": "exceptional-milton",
   "metadata": {},
   "source": [
    "![image.png](attachment:efa7272b-5d69-4a74-9db9-11ea7f95fc9c.png)"
   ]
  },
  {
   "cell_type": "markdown",
   "id": "entitled-stress",
   "metadata": {},
   "source": [
    "The parameters of the function are:\n",
    "- `cell`: the cell you want to get contour case for\n",
    "- `thres`: the threshold/isovalue \n",
    "\n",
    "Function returns:\n",
    "- an integer between `0` and `15` inclusive indicating the contouring cell's index in the contouring lookup table (`0` any time an out-of-bounds access is encountered)"
   ]
  },
  {
   "cell_type": "code",
   "execution_count": 5,
   "id": "preceding-joshua",
   "metadata": {},
   "outputs": [],
   "source": [
    "def get_contour_case(cell, thres):\n",
    "    binary_index = [int(v.value >= thres) for v in cell.vertices]\n",
    "    decimal_index = int(''.join(str(b) for b in binary_index), 2)\n",
    "    return decimal_index"
   ]
  },
  {
   "cell_type": "markdown",
   "id": "brutal-remove",
   "metadata": {},
   "source": [
    "## Disambiguating Saddle Points\n",
    "\n",
    "There are some cases, called saddle points, where the contour is ambiguous (there are multiple edges that can serve as a valid contour for that case). To resolve the ambiguous cases, I need to average the function values at the corners of the contouring cell to generate a sample in the square center."
   ]
  },
  {
   "attachments": {
    "a38a66b5-ceb2-43d2-a64f-7881f3a617da.png": {
     "image/png": "[encoded data removed]"
    }
   },
   "cell_type": "markdown",
   "id": "wicked-passage",
   "metadata": {},
   "source": [
    "![image.png](attachment:a38a66b5-ceb2-43d2-a64f-7881f3a617da.png)"
   ]
  },
  {
   "cell_type": "markdown",
   "id": "corresponding-multiple",
   "metadata": {},
   "source": [
    "The parameters of the function are:\n",
    "- `cell`: the cell you want to check it for\n",
    "- `thres`: the threshold/isovalue \n",
    "\n",
    "Function returns:\n",
    "- `True` if the averaged sample cell is greater than or equal to the threshold, and `False` otherwise."
   ]
  },
  {
   "cell_type": "code",
   "execution_count": 6,
   "id": "loving-powell",
   "metadata": {},
   "outputs": [],
   "source": [
    "def avg_above_theshold(cell, thres):\n",
    "    return sum([v.value for v in cell.vertices]) / 4.0 >= thres"
   ]
  },
  {
   "cell_type": "markdown",
   "id": "embedded-cherry",
   "metadata": {},
   "source": [
    "## Interpolation\n",
    "\n",
    "To smoothen the contours, I will use linear interpolation to find the exact position of the contour line along the edges of the cell.\n",
    "\n",
    "The parameters of the function are:\n",
    "- `v1`: the first vertex to use for linear interpolation\n",
    "- `v2`: the second value to use for linear interpolation\n",
    "- `thres`: the number for which to find the relative position between `v1` and `v2`\n",
    "\n",
    "Function returns:\n",
    "- a float between 0 and 1 designating the relative position of `t` between `v1` and `v2`"
   ]
  },
  {
   "cell_type": "code",
   "execution_count": 7,
   "id": "leading-skating",
   "metadata": {},
   "outputs": [],
   "source": [
    "def interpolate(v1, v2, thres):\n",
    "    return (thres - v1.value) / (v2.value - v1.value)"
   ]
  },
  {
   "cell_type": "markdown",
   "id": "fabulous-wildlife",
   "metadata": {},
   "source": [
    "### Get interpolated coordinates"
   ]
  },
  {
   "cell_type": "markdown",
   "id": "sought-transcript",
   "metadata": {},
   "source": [
    "Use interpolate function to linearly interpolate the positions of the two grid points (vertices).\n",
    "\n",
    "The parameters of the function are:\n",
    "- `v1`: the first vertex to use for linear interpolation\n",
    "- `v2`: the second value to use for linear interpolation\n",
    "- `thres`: the number for which to find the relative position between `v1` and `v2`\n",
    "\n",
    "Function returns:\n",
    "- a (x, y) interpolated coordinates "
   ]
  },
  {
   "cell_type": "code",
   "execution_count": 8,
   "id": "clear-emergency",
   "metadata": {},
   "outputs": [],
   "source": [
    "def get_coordinates(v1, v2, thres):\n",
    "    t = interpolate(v1, v2, thres)\n",
    "    \n",
    "    x = v1.column + t * (v2.column - v1.column)\n",
    "    y = v1.row + t * (v2.row - v1.row)\n",
    "    return x, y"
   ]
  },
  {
   "cell_type": "markdown",
   "id": "dress-coupon",
   "metadata": {},
   "source": [
    "## Get coordinates"
   ]
  },
  {
   "attachments": {
    "0a1bfd53-44ef-486c-a6c3-91dbe5943007.png": {
     "image/png": "[encoded data removed]"
    },
    "cfbb6bac-b45c-4cdf-a8d6-5a75a5c91338.png": {
     "image/png": "[encoded data removed]"
    }
   },
   "cell_type": "markdown",
   "id": "structured-ottawa",
   "metadata": {},
   "source": [
    "Every contour case can be transformed to a list of edges where the segment should be created:\n",
    "\n",
    "![image.png](attachment:0a1bfd53-44ef-486c-a6c3-91dbe5943007.png)\n",
    "![image.png](attachment:cfbb6bac-b45c-4cdf-a8d6-5a75a5c91338.png)"
   ]
  },
  {
   "cell_type": "code",
   "execution_count": 9,
   "id": "opened-formula",
   "metadata": {},
   "outputs": [],
   "source": [
    "case_to_edges = {\n",
    "    1: [[2, 3]], 2: [[1, 2]],  3: [[1, 3]],  4: [[0, 1]],  6: [[0, 2]],  7: [[0, 3]],\n",
    "    8: [[0, 3]], 9: [[0, 2]], 11: [[0, 1]], 12: [[1, 3]], 13: [[1, 2]], 14: [[2, 3]],\n",
    "    \"10_5\": [[0, 1], [2, 3]], \n",
    "    \"5_10\": [[1, 2], [0, 3]]\n",
    "}"
   ]
  },
  {
   "cell_type": "markdown",
   "id": "available-quilt",
   "metadata": {},
   "source": [
    "Lets now obtain the exact coordinates of a contour line's endpoints.\n",
    "\n",
    "The parameters of the function are:\n",
    "- `cell`: the cell you want to get contour case for\n",
    "- `thres`: the threshold/isovalue \n",
    "\n",
    "Function returns:\n",
    "- a list of pairs of (x, y) coordinates indicating contour segments within a cell e.g. [ [(x1,y1),(x2,y2)], [(x3,y3),(x4,y4)] ]. If any of the grid cells bordering a countouring cell are out of bounds, function returns an empty list `[]`."
   ]
  },
  {
   "cell_type": "code",
   "execution_count": 10,
   "id": "broadband-platform",
   "metadata": {},
   "outputs": [],
   "source": [
    "def get_segment_coordinates(edge, cell, thres):\n",
    "    segment_coordinates = []\n",
    "    for edge_i in edge:\n",
    "        v1, v2 = cell.get_edge(edge_i)\n",
    "        if v1.value < thres < v2.value:\n",
    "            x, y = get_coordinates(v1, v2, thres)\n",
    "            segment_coordinates.append((y, x))\n",
    "    return segment_coordinates\n",
    "\n",
    "\n",
    "def get_cell_segments(cell, thres):\n",
    "    if cell is None:\n",
    "        return []\n",
    "\n",
    "    contour_case = get_contour_case(cell, thres)\n",
    "    \n",
    "    if contour_case in [0, 15]: \n",
    "        return []\n",
    "    \n",
    "    if contour_case in [5, 10]:\n",
    "        saddle_above_thres = avg_above_theshold(cell, thres)\n",
    "\n",
    "        if ((contour_case == 10) & saddle_above_thres) | ((contour_case == 5) & (not saddle_above_thres)):\n",
    "            edges = case_to_edges[\"10_5\"]\n",
    "        if ((contour_case == 5) & saddle_above_thres) | ((contour_case == 10) & (not saddle_above_thres)):\n",
    "            edges = case_to_edges[\"5_10\"]\n",
    "    else:\n",
    "        edges = case_to_edges[contour_case]\n",
    "    \n",
    "    return [get_segment_coordinates(edge, cell, thres) for edge in edges]"
   ]
  },
  {
   "cell_type": "markdown",
   "id": "palestinian-retreat",
   "metadata": {},
   "source": [
    "We can now apply the above function to all of the contouring cells in our grid and produce a list of pairs of coordinates, where each pair of coordinates represents a line segment used for drawing the contours of a Marching Squares invocation.\n",
    "\n",
    "The parameters of the function are:\n",
    "- `thres`: the threshold/isovalue \n",
    "- `grid`: a 2-D array of cells\n",
    "\n",
    "Function returns:\n",
    "- a list of pairs of (x, y) coordinates indicating all contour segments for the grid e.g. [ [(x1,y1),(x2,y2)], [(x3,y3),(x4,y4)] ]."
   ]
  },
  {
   "cell_type": "code",
   "execution_count": 11,
   "id": "existing-authority",
   "metadata": {},
   "outputs": [],
   "source": [
    "def get_contour_segments(grid, thres):\n",
    "    contour_segments = []\n",
    "    for row in grid.cells:\n",
    "        for cell in row:\n",
    "            cell_segment = get_cell_segments(cell, thres)\n",
    "            if cell_segment == []:\n",
    "                continue\n",
    "            contour_segments.append(cell_segment[0])\n",
    "    return contour_segments"
   ]
  },
  {
   "cell_type": "markdown",
   "id": "generic-trailer",
   "metadata": {},
   "source": [
    "## Creating a colormap\n",
    "\n",
    "Create a [Plasma color map](https://www.kennethmoreland.com/color-advice/) for mapping scalar data to colors.\n",
    "\n",
    "Function returns:\n",
    "- a dictionary containing a Plasma color map usable by matplotlib's LinearSegmentedColormap() function."
   ]
  },
  {
   "cell_type": "markdown",
   "id": "expected-purse",
   "metadata": {},
   "source": [
    "# Visualization\n",
    "Generate our 2-D interactive visualization! You should be able to toggle the visualization to see the images from the beginning of this notebook."
   ]
  },
  {
   "cell_type": "markdown",
   "id": "enclosed-journalist",
   "metadata": {},
   "source": [
    "Use a 2-D Gaussian function to generate the grid that we will apply marching squares to."
   ]
  },
  {
   "cell_type": "code",
   "execution_count": 12,
   "id": "outside-ministry",
   "metadata": {},
   "outputs": [],
   "source": [
    "def color_map_plasma():\n",
    "    return {'red': [(0.0,  13/255, 13/255),\n",
    "                   (0.142857142857142,  84/255, 84/255),\n",
    "                   (0.285714285714285,  139/255, 139/255),\n",
    "                   (0.428571428571428,  185/255, 185/255),\n",
    "                   (0.571428571428571,  219/255, 219/255),\n",
    "                   (0.714285714285714,  244/255, 244/255),\n",
    "                   (0.857142857142857,  254/255, 254/255),\n",
    "                   (1.0,  240/255, 240/255)],\n",
    "         'green': [(0.0,  8/255, 8/255),\n",
    "                   (0.142857142857142,  2/255, 2/255),\n",
    "                   (0.285714285714285,  10/255, 10/255),\n",
    "                   (0.428571428571428,  50/255, 50/255),\n",
    "                   (0.571428571428571,  92/255, 92/255),\n",
    "                   (0.714285714285714,  136/255, 136/255),\n",
    "                   (0.857142857142857,  188/255, 188/255),\n",
    "                   (1.0,  249/255, 249/255)],\n",
    "         'blue':  [(0.0,  135/255, 135/255),\n",
    "                   (0.142857142857142,  163/255, 163/255),\n",
    "                   (0.285714285714285,  165/255, 165/255),\n",
    "                   (0.428571428571428,  137/255, 137/255),\n",
    "                   (0.571428571428571,  104/255, 104/255),\n",
    "                   (0.714285714285714,  73/255, 73/255),\n",
    "                   (0.857142857142857,  43/255, 43/255),\n",
    "                   (1.0,  33/255, 33/255)]}"
   ]
  },
  {
   "cell_type": "code",
   "execution_count": 13,
   "id": "adaptive-clearance",
   "metadata": {},
   "outputs": [],
   "source": [
    "def gauss_2d(mu, sigma, size=10):\n",
    "    x, y = np.meshgrid(np.linspace(-1,1,size), np.linspace(-1,1,size))\n",
    "    d    = np.sqrt(x*x+y*y)\n",
    "    g    = np.exp(-( (d-mu)**2 / ( 2.0 * sigma**2 ) ) )\n",
    "    return g"
   ]
  },
  {
   "cell_type": "code",
   "execution_count": 14,
   "id": "environmental-mileage",
   "metadata": {},
   "outputs": [],
   "source": [
    "class March(object):\n",
    "    def __init__(self,res=32,thres=0.5,size=320):\n",
    "\n",
    "        #Initialize variables\n",
    "        self.res      = res                      #Number of grid cells per axis\n",
    "        self.thres    = thres                    #Threshold for binarization\n",
    "        self.size     = size                     #Size of image (in pixels)\n",
    "        self.contours = 0                        #Whether we're showing contours (0 = off,  1 = normal, 2 = interpolated)\n",
    "        self.cmap     = self.colorMapGrayscale() #Default grayscale color map\n",
    "        self.cmapi    = 0                        #Index of color map (0 = gray, 1 = plasma, 2 = custom)\n",
    "\n",
    "        #Hardcode some cells to start with to test all cases\n",
    "        self.grid    = Grid(gauss_2d(0.5,0.4,self.res))\n",
    "\n",
    "        #Compute other useful variables from grid size\n",
    "        self.step     = self.size // self.res #Spacing between grid lines (in pixels)\n",
    "\n",
    "        #Set up axes\n",
    "        self.fig, self.axes = plt.subplots()\n",
    "        self.axes.set_aspect('equal')\n",
    "        plt.subplots_adjust(bottom=0.2)\n",
    "\n",
    "        #Set up buttons\n",
    "        self.btog = Button(plt.axes([0.61, 0.05, 0.2, 0.075]), 'No Contours')\n",
    "        self.btog.on_clicked(self.toggle_contours)\n",
    "        self.bmap = Button(plt.axes([0.41, 0.05, 0.2, 0.075]), 'Grayscale')\n",
    "        self.bmap.on_clicked(self.toggle_colormap)\n",
    "\n",
    "        #Perform initial drawing\n",
    "        self.redraw()\n",
    "\n",
    "    def show(self):\n",
    "        plt.show()\n",
    "\n",
    "    def update(self):\n",
    "        self.fig.canvas.draw()\n",
    "\n",
    "    def toggle_contours(self,event):\n",
    "        #Toggle whether we draw contours or not\n",
    "        self.contours = (self.contours + 1) % 3\n",
    "        self.redraw()\n",
    "\n",
    "    def toggle_colormap(self,event):\n",
    "        self.cmapi = (self.cmapi+1)%2\n",
    "        if self.cmapi == 0:\n",
    "            self.cmap = self.colorMapGrayscale()\n",
    "            self.bmap.label.set_text(\"Grayscale\")\n",
    "        elif self.cmapi == 1:\n",
    "            self.cmap = color_map_plasma()\n",
    "            self.bmap.label.set_text(\"Plasma\")\n",
    "        self.redraw()\n",
    "\n",
    "    def redraw(self):\n",
    "        # Regenerate a blank white canvas withou axis lines or tick marks\n",
    "        self.axes.clear()\n",
    "        self.axes.set_yticks([])\n",
    "        self.axes.set_xticks([])\n",
    "        self.axes.set_yticklabels([])\n",
    "        self.axes.set_xticklabels([])\n",
    "\n",
    "        #Invert y axis to match up with array ordering\n",
    "        self.axes.invert_yaxis()\n",
    "\n",
    "        #Draw the image from our img matrix\n",
    "        self.drawImage()\n",
    "        if self.contours == 0:\n",
    "            for i in range(1,self.res): #Draw image grid\n",
    "                self.axes.plot([0,self.size-1], [self.step*i,self.step*i], color='black', linestyle='-', linewidth=1)\n",
    "                self.axes.plot([self.step*i,self.step*i], [0,self.size-1], color='black', linestyle='-', linewidth=1)\n",
    "            self.btog.label.set_text('No Contours')\n",
    "        else:  # Draw contours and contour grid\n",
    "            for i in range(self.res): #Draw contour grid\n",
    "                self.axes.plot([0,self.size-1], [self.step*(i+0.5),self.step*(i+0.5)], color='gray', linestyle='-', linewidth=1)\n",
    "                self.axes.plot([self.step*(i+0.5),self.step*(i+0.5)], [0,self.size-1], color='gray', linestyle='-', linewidth=1)\n",
    "            if self.contours == 1:\n",
    "                self.btog.label.set_text('Rough Contours')\n",
    "                self.drawTableLookupContours()\n",
    "            else:\n",
    "                self.btog.label.set_text('Interp. Contours')\n",
    "                self.drawInterpolatedContours()\n",
    "\n",
    "        #Update the underlying plot\n",
    "        self.update()\n",
    "\n",
    "    def colorMapGrayscale(self):\n",
    "        cdict = {'red':   [[0, 0, 0],\n",
    "                           [1, 1, 1]],\n",
    "                 'green': [[0, 0, 0],\n",
    "                           [1, 1, 1]],\n",
    "                 'blue':  [[0, 0, 0],\n",
    "                           [1, 1, 1]]}\n",
    "        return cdict\n",
    "\n",
    "    def drawImage(self):\n",
    "        newcmp = LinearSegmentedColormap('testCmap', segmentdata=self.cmap, N=256)\n",
    "        self.axes.imshow(gauss_2d(0.5,0.4,self.size),cmap=newcmp)\n",
    "\n",
    "    def drawTableLookupContours(self):\n",
    "        for y,row in enumerate(self.grid.cells):\n",
    "            for x,cell in enumerate(row):\n",
    "                case = get_contour_case(cell, self.thres)\n",
    "                self.drawCellContourByCase(y,x,case)\n",
    "\n",
    "    def drawInterpolatedContours(self):\n",
    "        segments = get_contour_segments(self.grid, self.thres)\n",
    "        print(segments)\n",
    "        for s in segments:\n",
    "            x1 = self.step*(0.5+s[0][0])\n",
    "            x2 = self.step*(0.5+s[1][0])\n",
    "            y1 = self.step*(0.5+s[0][1])\n",
    "            y2 = self.step*(0.5+s[1][1])\n",
    "            self.axes.plot([x1,x2], [y1,y2], color='green', linestyle='-', linewidth=1)\n",
    "\n",
    "    def drawCellContourByCase(self,yrow,xcol,case):\n",
    "        if case in [0,15]:\n",
    "            return #Nothing to draw for empty cells, completely surrounded cells, or border cells\n",
    "\n",
    "        #Handle saddle points\n",
    "        if case in [5]:\n",
    "            if avg_above_threshold(self.grid.get_cell(yrow,xcol),self.thres):\n",
    "                self.drawCellContourByCase(yrow,xcol,2)\n",
    "                self.drawCellContourByCase(yrow,xcol,7)\n",
    "            else:\n",
    "                self.drawCellContourByCase(yrow,xcol,11)\n",
    "                self.drawCellContourByCase(yrow,xcol,14)\n",
    "            return\n",
    "        if case in [10]:\n",
    "            if avg_above_threshold(self.grid.get_cell(yrow,xcol),self.thres):\n",
    "                self.drawCellContourByCase(yrow,xcol,11)\n",
    "                self.drawCellContourByCase(yrow,xcol,14)\n",
    "            else:\n",
    "                self.drawCellContourByCase(yrow,xcol,2)\n",
    "                self.drawCellContourByCase(yrow,xcol,7)\n",
    "            return\n",
    "\n",
    "        #Compute coordinates based on case lookup table\n",
    "        s    = self.step\n",
    "        ymin = s*yrow + (0         if case in [4,6,7,8,9,11]   else s//2)\n",
    "        ymax = s*yrow + (self.step if case in [1,2,6,9,13,14]  else s//2)\n",
    "        xmin = s*xcol + (0         if case in [1,3,7,8,12,14]  else s//2)\n",
    "        xmax = s*xcol + (self.step if case in [2,3,4,11,12,13] else s//2)\n",
    "        if case in [2,7,8,13]: #Reverse direction for lines drawn up and right (i.e., x increases while y decreases)\n",
    "            xmin,xmax = xmax,xmin\n",
    "\n",
    "        #Contour lines should be drawn halfway between grid cells, so set an offset\n",
    "        off = s//2\n",
    "        #Smooth contours should have different color\n",
    "        color = 'red' if self.contours == 1 else 'green'\n",
    "        #Actually draw the contour lines\n",
    "        self.axes.plot([xmin+off, xmax+off], [ymin+off, ymax+off], color=color, linestyle='-', linewidth=1)\n",
    "        return"
   ]
  },
  {
   "cell_type": "code",
   "execution_count": 15,
   "id": "lucky-peter",
   "metadata": {},
   "outputs": [
    {
     "data": {
      "application/vnd.jupyter.widget-view+json": {
       "model_id": "7c924d07e9dc4fb0aa34c5be02b71aa8",
       "version_major": 2,
       "version_minor": 0
      },
      "text/plain": [
       "Canvas(toolbar=Toolbar(toolitems=[('Home', 'Reset original view', 'home', 'home'), ('Back', 'Back to previous …"
      ]
     },
     "metadata": {},
     "output_type": "display_data"
    },
    {
     "data": {
      "text/plain": [
       "<__main__.March at 0x7f112c0e4040>"
      ]
     },
     "execution_count": 15,
     "metadata": {},
     "output_type": "execute_result"
    }
   ],
   "source": [
    "March(res = 60, size = 600)"
   ]
  },
  {
   "cell_type": "code",
   "execution_count": null,
   "id": "failing-briefing",
   "metadata": {},
   "outputs": [],
   "source": []
  }
 ],
 "metadata": {
  "kernelspec": {
   "display_name": "Python 3",
   "language": "python",
   "name": "python3"
  },
  "language_info": {
   "codemirror_mode": {
    "name": "ipython",
    "version": 3
   },
   "file_extension": ".py",
   "mimetype": "text/x-python",
   "name": "python",
   "nbconvert_exporter": "python",
   "pygments_lexer": "ipython3",
   "version": "3.8.6"
  }
 },
 "nbformat": 4,
 "nbformat_minor": 5
}
